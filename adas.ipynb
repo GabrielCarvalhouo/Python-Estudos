{
 "cells": [
  {
   "cell_type": "markdown",
   "metadata": {},
   "source": [
    "# Automatização de E-mail\n",
    "\n",
    "\n",
    "passo 1: entrar no sistema (no meu caso o link)\n",
    "\n",
    "passo 2: Navegar no sistema e encontrar a base de dados (entrar na pasta exportar)\n",
    "\n",
    "passo 3: Download da base de dados \n",
    "\n",
    "passo 4: calcular os indicadores (faturamento, quantidade de produtos)\n",
    "\n",
    "passo 5: entrar no email\n",
    "\n",
    "passo 6: mandar um email para a diretoria com os indicadores"
   ]
  },
  {
   "cell_type": "code",
   "execution_count": 1,
   "metadata": {},
   "outputs": [],
   "source": [
    "# importando as bibliotecas\n",
    "\n",
    "import pandas as pd\n",
    "#import pyautogui\n",
    "#import time\n",
    "#import openpyxl"
   ]
  },
  {
   "cell_type": "code",
   "execution_count": 4,
   "metadata": {},
   "outputs": [
    {
     "data": {
      "text/html": [
       "<div>\n",
       "<style scoped>\n",
       "    .dataframe tbody tr th:only-of-type {\n",
       "        vertical-align: middle;\n",
       "    }\n",
       "\n",
       "    .dataframe tbody tr th {\n",
       "        vertical-align: top;\n",
       "    }\n",
       "\n",
       "    .dataframe thead th {\n",
       "        text-align: right;\n",
       "    }\n",
       "</style>\n",
       "<table border=\"1\" class=\"dataframe\">\n",
       "  <thead>\n",
       "    <tr style=\"text-align: right;\">\n",
       "      <th></th>\n",
       "      <th>modelo</th>\n",
       "      <th>cor</th>\n",
       "      <th>placa</th>\n",
       "      <th>chassi</th>\n",
       "      <th>marca</th>\n",
       "    </tr>\n",
       "  </thead>\n",
       "  <tbody>\n",
       "    <tr>\n",
       "      <th>0</th>\n",
       "      <td>xc60</td>\n",
       "      <td>preto</td>\n",
       "      <td>64564</td>\n",
       "      <td>768678</td>\n",
       "      <td>volvo</td>\n",
       "    </tr>\n",
       "    <tr>\n",
       "      <th>1</th>\n",
       "      <td>chevette</td>\n",
       "      <td>azul</td>\n",
       "      <td>323234</td>\n",
       "      <td>5664</td>\n",
       "      <td>chevrolet</td>\n",
       "    </tr>\n",
       "    <tr>\n",
       "      <th>2</th>\n",
       "      <td>kombi</td>\n",
       "      <td>branca</td>\n",
       "      <td>321312</td>\n",
       "      <td>543253</td>\n",
       "      <td>vw</td>\n",
       "    </tr>\n",
       "  </tbody>\n",
       "</table>\n",
       "</div>"
      ],
      "text/plain": [
       "     modelo     cor   placa  chassi      marca\n",
       "0      xc60   preto   64564  768678      volvo\n",
       "1  chevette    azul  323234    5664  chevrolet\n",
       "2     kombi  branca  321312  543253         vw"
      ]
     },
     "metadata": {},
     "output_type": "display_data"
    }
   ],
   "source": [
    "tabela = pd.read_excel('teste.xlsx')\n",
    "\n",
    "display(tabela)"
   ]
  }
 ],
 "metadata": {
  "kernelspec": {
   "display_name": "Python 3.9.12 ('base')",
   "language": "python",
   "name": "python3"
  },
  "language_info": {
   "codemirror_mode": {
    "name": "ipython",
    "version": 3
   },
   "file_extension": ".py",
   "mimetype": "text/x-python",
   "name": "python",
   "nbconvert_exporter": "python",
   "pygments_lexer": "ipython3",
   "version": "3.9.12"
  },
  "orig_nbformat": 4,
  "vscode": {
   "interpreter": {
    "hash": "d7cebb9cd92f3bcfd09a19295fe78f751d8549c12e44a0e836535ca534850612"
   }
  }
 },
 "nbformat": 4,
 "nbformat_minor": 2
}
